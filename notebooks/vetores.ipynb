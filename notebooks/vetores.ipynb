{
 "cells": [
  {
   "cell_type": "markdown",
   "metadata": {},
   "source": [
    "# Vetores\n",
    "São uma coleção de escalares. Possui, além de um valor númerico (módulo), direção e sentido.\n",
    "\n",
    "- **Módulo**: Também conhecido como norma de um vetor, é obtida por meio do cálculo do comprimento desse vetor; `np.linalg.norm(u)`\n",
    "- **Direção**: Podemos dizer que a direção é uma propriedade comum a retas paralelas;\n",
    "- **Sentido**: É considerado a orientação sobre uma direção, isto significa que a direção horizontal se refere ao sentido para a direita ou para a esquerda, e a direção vertical, se refere ao sentido para cima ou para baixo.\n",
    "\n",
    "Exemplos:\n",
    "- Força;\n",
    "- Aceleração."
   ]
  },
  {
   "cell_type": "markdown",
   "metadata": {},
   "source": [
    "## Representação de um vetor\n",
    "- **plano cartesiano**: $\\vec u = (x_{1}, y_{1})$.\n",
    "  - Para calcular sua norma: $|u| = \\sqrt{x^{2}_{1} + y^{2}_{1}}$.\n",
    "- **plano 3D**: $\\vec u = (x_{1}, y_{1}, z_{1})$.\n",
    "  - Para calcular sua norma: $|u| = \\sqrt{x^{2}_{1} + y^{2}_{1} + z^{2}_{1}}$.\n",
    "- **plano de N dimensões**: $\\vec u = (x_{1}, x_{2}, x_{3}, \\dots, x_{n})$.\n",
    "  - Para calcular sua norma: $|u| = \\sqrt{x^{2}_{1} + x^{2}_{2} + x^{2}_{3} + \\dots + x^{2}_{n}}$."
   ]
  },
  {
   "cell_type": "markdown",
   "metadata": {},
   "source": [
    "# Operações"
   ]
  },
  {
   "cell_type": "code",
   "execution_count": 1,
   "metadata": {
    "ExecuteTime": {
     "end_time": "2019-06-25T14:56:46.243273Z",
     "start_time": "2019-06-25T14:56:46.238672Z"
    }
   },
   "outputs": [],
   "source": [
    "import numpy as np\n",
    "\n",
    "u = np.array([1, 2])\n",
    "v = np.array([2, 1])"
   ]
  },
  {
   "cell_type": "markdown",
   "metadata": {},
   "source": [
    "## Soma\n",
    "\\begin{equation}\n",
    "\\vec u, \\vec v \\in \\mathbb{R}^{2}\\\\\n",
    "\\vec u = (x_{1}, y_{1}) \\\\\n",
    "\\vec v = (x_{2}, y_{2}) \\\\\n",
    "\\vec u + \\vec v = (x_{1} + x_{2}, y_{1} + y_{2})\n",
    "\\end{equation}"
   ]
  },
  {
   "cell_type": "code",
   "execution_count": 2,
   "metadata": {
    "ExecuteTime": {
     "end_time": "2019-06-25T14:56:46.258074Z",
     "start_time": "2019-06-25T14:56:46.246306Z"
    }
   },
   "outputs": [
    {
     "data": {
      "text/plain": [
       "array([3, 3])"
      ]
     },
     "execution_count": 2,
     "metadata": {},
     "output_type": "execute_result"
    }
   ],
   "source": [
    "u + v"
   ]
  },
  {
   "cell_type": "markdown",
   "metadata": {},
   "source": [
    "## Subtração\n",
    "\\begin{equation}\n",
    "\\vec u, \\vec v \\in \\mathbb{R}^{2}\\\\\n",
    "\\vec u = (x_{1}, y_{1}) \\\\\n",
    "\\vec v = (x_{2}, y_{2}) \\\\\n",
    "\\vec u - \\vec v = (x_{1} - x_{2}, y_{1} - y_{2})\n",
    "\\end{equation}"
   ]
  },
  {
   "cell_type": "code",
   "execution_count": 3,
   "metadata": {
    "ExecuteTime": {
     "end_time": "2019-06-25T14:56:46.264712Z",
     "start_time": "2019-06-25T14:56:46.259372Z"
    }
   },
   "outputs": [
    {
     "data": {
      "text/plain": [
       "array([-1,  1])"
      ]
     },
     "execution_count": 3,
     "metadata": {},
     "output_type": "execute_result"
    }
   ],
   "source": [
    "u - v"
   ]
  },
  {
   "cell_type": "markdown",
   "metadata": {},
   "source": [
    "## Produto escalar\n",
    "\\begin{equation}\n",
    "\\vec u, \\vec v \\in \\mathbb{R}^{2}\\\\\n",
    "\\vec u = (x_{1}, y_{1}) \\\\\n",
    "\\vec v = (x_{2}, y_{2}) \\\\\n",
    "\\vec u \\cdot \\vec v = x_{1} \\cdot x_{2} + y_{1} \\cdot y_{2}\n",
    "\\end{equation}"
   ]
  },
  {
   "cell_type": "code",
   "execution_count": 4,
   "metadata": {
    "ExecuteTime": {
     "end_time": "2019-06-25T14:56:46.270389Z",
     "start_time": "2019-06-25T14:56:46.266425Z"
    }
   },
   "outputs": [
    {
     "data": {
      "text/plain": [
       "4"
      ]
     },
     "execution_count": 4,
     "metadata": {},
     "output_type": "execute_result"
    }
   ],
   "source": [
    "np.dot(u, v)  # u.dot(v)"
   ]
  },
  {
   "cell_type": "markdown",
   "metadata": {},
   "source": [
    "## Ângulo entre vetores\n",
    "\\begin{equation}\n",
    "cos\\theta = \\frac{\\vec u \\cdot \\vec v}{|\\vec u| \\cdot |\\vec v|} \\\\\n",
    "\\theta = arc cos(\\frac{\\vec u \\cdot \\vec v}{|\\vec u| \\cdot |\\vec v|})\n",
    "\\end{equation}"
   ]
  },
  {
   "cell_type": "code",
   "execution_count": 5,
   "metadata": {
    "ExecuteTime": {
     "end_time": "2019-06-25T14:56:46.275366Z",
     "start_time": "2019-06-25T14:56:46.272470Z"
    }
   },
   "outputs": [],
   "source": [
    "def angle_two_vectors(u, v):\n",
    "    ang = np.arccos(u.dot(v) / (np.linalg.norm(u)*np.linalg.norm(v)))  # Radianos\n",
    "    return (180/np.pi)*ang  # Graus"
   ]
  },
  {
   "cell_type": "code",
   "execution_count": 6,
   "metadata": {
    "ExecuteTime": {
     "end_time": "2019-06-25T14:56:46.280149Z",
     "start_time": "2019-06-25T14:56:46.276686Z"
    }
   },
   "outputs": [
    {
     "data": {
      "text/plain": [
       "90.0"
      ]
     },
     "execution_count": 6,
     "metadata": {},
     "output_type": "execute_result"
    }
   ],
   "source": [
    "u = np.array([0,1])\n",
    "v = np.array([1,0])\n",
    "angle_two_vectors(u, v)"
   ]
  },
  {
   "cell_type": "markdown",
   "metadata": {},
   "source": [
    "## Vetor unitário\n",
    "\\begin{equation}\n",
    "\\vec u = \\frac{\\vec v}{|\\vec v|}\n",
    "\\end{equation}"
   ]
  },
  {
   "cell_type": "code",
   "execution_count": null,
   "metadata": {},
   "outputs": [],
   "source": []
  }
 ],
 "metadata": {
  "kernelspec": {
   "display_name": "Python 3",
   "language": "python",
   "name": "python3"
  },
  "language_info": {
   "codemirror_mode": {
    "name": "ipython",
    "version": 3
   },
   "file_extension": ".py",
   "mimetype": "text/x-python",
   "name": "python",
   "nbconvert_exporter": "python",
   "pygments_lexer": "ipython3",
   "version": "3.6.8"
  },
  "toc": {
   "base_numbering": 1,
   "nav_menu": {},
   "number_sections": true,
   "sideBar": true,
   "skip_h1_title": false,
   "title_cell": "Table of Contents",
   "title_sidebar": "Contents",
   "toc_cell": false,
   "toc_position": {},
   "toc_section_display": true,
   "toc_window_display": false
  },
  "varInspector": {
   "cols": {
    "lenName": 16,
    "lenType": 16,
    "lenVar": 40
   },
   "kernels_config": {
    "python": {
     "delete_cmd_postfix": "",
     "delete_cmd_prefix": "del ",
     "library": "var_list.py",
     "varRefreshCmd": "print(var_dic_list())"
    },
    "r": {
     "delete_cmd_postfix": ") ",
     "delete_cmd_prefix": "rm(",
     "library": "var_list.r",
     "varRefreshCmd": "cat(var_dic_list()) "
    }
   },
   "types_to_exclude": [
    "module",
    "function",
    "builtin_function_or_method",
    "instance",
    "_Feature"
   ],
   "window_display": false
  }
 },
 "nbformat": 4,
 "nbformat_minor": 2
}
