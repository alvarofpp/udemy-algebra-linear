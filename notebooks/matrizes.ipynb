{
 "cells": [
  {
   "cell_type": "markdown",
   "metadata": {},
   "source": [
    "# Matrizes\n",
    "Tabela de elementos dispostos em linhas e colunas.\n",
    "\n",
    "\\begin{equation}\n",
    "A_{m \\times n} =\n",
    "  \\begin{bmatrix}\n",
    "    a_{1 1} & a_{1 2} & \\cdots & a_{1 n} \\\\\n",
    "    a_{2 1} & a_{2 2} & \\cdots & a_{2 n} \\\\\n",
    "    \\vdots & \\vdots & \\ddots & \\vdots \\\\\n",
    "    a_{m 1} & a_{m 2} & \\cdots & a_{m n}\n",
    "  \\end{bmatrix} = [a_{ij}]_{m \\times n}\n",
    "\\end{equation}\n",
    "\n",
    "**Declaração de matrizes no Numpy**:"
   ]
  },
  {
   "cell_type": "code",
   "execution_count": 1,
   "metadata": {
    "ExecuteTime": {
     "end_time": "2019-06-27T18:20:24.445476Z",
     "start_time": "2019-06-27T18:20:24.438023Z"
    }
   },
   "outputs": [],
   "source": [
    "import numpy as np"
   ]
  },
  {
   "cell_type": "code",
   "execution_count": 2,
   "metadata": {
    "ExecuteTime": {
     "end_time": "2019-06-27T18:20:24.478223Z",
     "start_time": "2019-06-27T18:20:24.466358Z"
    }
   },
   "outputs": [],
   "source": [
    "A = np.array([\n",
    "    [2,-1],\n",
    "    [0,4]\n",
    "])\n",
    "\n",
    "B = np.matrix('2 -1; 0 4')\n",
    "\n",
    "C = np.matrix([\n",
    "    [2,-1],\n",
    "    [0,4]\n",
    "])"
   ]
  },
  {
   "cell_type": "code",
   "execution_count": 3,
   "metadata": {
    "ExecuteTime": {
     "end_time": "2019-06-27T18:20:24.503719Z",
     "start_time": "2019-06-27T18:20:24.487342Z"
    }
   },
   "outputs": [
    {
     "name": "stdout",
     "output_type": "stream",
     "text": [
      "[[ 2 -1]\n",
      " [ 0  4]] <class 'numpy.ndarray'> (2, 2)\n",
      "[[ 2 -1]\n",
      " [ 0  4]] <class 'numpy.matrix'> (2, 2)\n",
      "[[ 2 -1]\n",
      " [ 0  4]] <class 'numpy.matrix'> (2, 2)\n"
     ]
    }
   ],
   "source": [
    "print(A, type(A), A.shape)\n",
    "print(B, type(B), B.shape)\n",
    "print(C, type(C), C.shape)"
   ]
  },
  {
   "cell_type": "markdown",
   "metadata": {},
   "source": [
    "## Tipos de matrizes\n",
    "Alguns tipos de matrizes que são importantes de saber."
   ]
  },
  {
   "cell_type": "markdown",
   "metadata": {},
   "source": [
    "### Quadrada\n",
    "O número de linhas é igual ao número de colunas ($m=n$).\n",
    "\n",
    "\\begin{equation}\n",
    "A_{1 \\times 1} =\n",
    "  \\begin{bmatrix}\n",
    "    a_{1 1}\n",
    "  \\end{bmatrix}\n",
    "\\\\\n",
    "B_{2 \\times 2} =\n",
    "  \\begin{bmatrix}\n",
    "    a_{1 1} & a_{1 2} \\\\\n",
    "    a_{2 1} & a_{2 2}\n",
    "  \\end{bmatrix}\n",
    "\\\\\n",
    "C_{3 \\times 3} =\n",
    "  \\begin{bmatrix}\n",
    "    a_{1 1} & a_{1 2} & a_{1 3} \\\\\n",
    "    a_{2 1} & a_{2 2} & a_{2 3} \\\\\n",
    "    a_{3 1} & a_{3 2} & a_{3 3}\n",
    "  \\end{bmatrix}\n",
    "\\end{equation}"
   ]
  },
  {
   "cell_type": "code",
   "execution_count": 4,
   "metadata": {
    "ExecuteTime": {
     "end_time": "2019-06-27T18:20:24.517978Z",
     "start_time": "2019-06-27T18:20:24.506901Z"
    }
   },
   "outputs": [
    {
     "name": "stdout",
     "output_type": "stream",
     "text": [
      "[[nan]] <class 'numpy.ndarray'> (1, 1)\n",
      "[[4.68953893e-310 4.68953892e-310]\n",
      " [0.00000000e+000 0.00000000e+000]] <class 'numpy.ndarray'> (2, 2)\n",
      "[[6.93961144e-310 4.68953920e-310 9.00687745e-313]\n",
      " [1.45259949e-308 1.87160735e-311 3.00384344e-273]\n",
      " [2.07224410e+243 2.54018677e+151 8.88782411e+252]] <class 'numpy.ndarray'> (3, 3)\n"
     ]
    }
   ],
   "source": [
    "Q1 = np.empty((1,1))\n",
    "Q2 = np.empty((2,2))\n",
    "Q3 = np.empty((3,3))\n",
    "\n",
    "print(Q1, type(Q1), Q1.shape)\n",
    "print(Q2, type(Q2), Q2.shape)\n",
    "print(Q3, type(Q3), Q3.shape)"
   ]
  },
  {
   "cell_type": "markdown",
   "metadata": {},
   "source": [
    "### Nula\n",
    "$a_{i j} = 0$, para todo $i$ e $j$.\n",
    "\n",
    "\\begin{equation}\n",
    "A_{2 \\times 2} =\n",
    "  \\begin{bmatrix}\n",
    "    0 & 0 \\\\\n",
    "    0 & 0\n",
    "  \\end{bmatrix}\n",
    "\\\\\n",
    "B_{3 \\times 5} =\n",
    "  \\begin{bmatrix}\n",
    "    0 & 0 & 0 & 0 & 0 \\\\\n",
    "    0 & 0 & 0 & 0 & 0 \\\\\n",
    "    0 & 0 & 0 & 0 & 0\n",
    "  \\end{bmatrix}\n",
    "\\end{equation}"
   ]
  },
  {
   "cell_type": "code",
   "execution_count": 5,
   "metadata": {
    "ExecuteTime": {
     "end_time": "2019-06-27T18:20:24.528900Z",
     "start_time": "2019-06-27T18:20:24.521663Z"
    }
   },
   "outputs": [
    {
     "name": "stdout",
     "output_type": "stream",
     "text": [
      "[[0. 0.]\n",
      " [0. 0.]] <class 'numpy.ndarray'> (2, 2)\n",
      "[[0. 0. 0. 0. 0.]\n",
      " [0. 0. 0. 0. 0.]\n",
      " [0. 0. 0. 0. 0.]] <class 'numpy.ndarray'> (3, 5)\n"
     ]
    }
   ],
   "source": [
    "N1 = np.zeros((2,2))\n",
    "N2 = np.zeros([3,5])\n",
    "\n",
    "print(N1, type(N1), N1.shape)\n",
    "print(N2, type(N2), N2.shape)"
   ]
  },
  {
   "cell_type": "markdown",
   "metadata": {},
   "source": [
    "### Matriz-coluna\n",
    "Possui apenas uma coluna ($n=1$).\n",
    "\n",
    "\\begin{equation}\n",
    "A_{m \\times 1} =\n",
    "  \\begin{bmatrix}\n",
    "    a_{1 1} \\\\\n",
    "    a_{2 1} \\\\\n",
    "    \\vdots \\\\\n",
    "    a_{m 1} \\\\\n",
    "  \\end{bmatrix}\n",
    "\\end{equation}"
   ]
  },
  {
   "cell_type": "code",
   "execution_count": 6,
   "metadata": {
    "ExecuteTime": {
     "end_time": "2019-06-27T18:20:24.534453Z",
     "start_time": "2019-06-27T18:20:24.530839Z"
    }
   },
   "outputs": [
    {
     "name": "stdout",
     "output_type": "stream",
     "text": [
      "[[1]\n",
      " [3]\n",
      " [5]] <class 'numpy.ndarray'> (3, 1)\n"
     ]
    }
   ],
   "source": [
    "C = np.array([[1], [3], [5]])\n",
    "\n",
    "print(C, type(C), C.shape)"
   ]
  },
  {
   "cell_type": "markdown",
   "metadata": {},
   "source": [
    "### Matriz-linha\n",
    "Possui apenas uma linha ($m=1$).\n",
    "\n",
    "\\begin{equation}\n",
    "A_{1 \\times n} =\n",
    "  \\begin{bmatrix}\n",
    "    a_{1 1} & a_{1 2} & \\cdots & a_{1 n}\n",
    "  \\end{bmatrix}\n",
    "\\end{equation}"
   ]
  },
  {
   "cell_type": "code",
   "execution_count": 7,
   "metadata": {
    "ExecuteTime": {
     "end_time": "2019-06-27T18:20:24.545421Z",
     "start_time": "2019-06-27T18:20:24.540530Z"
    }
   },
   "outputs": [
    {
     "name": "stdout",
     "output_type": "stream",
     "text": [
      "[[2 4 6]] <class 'numpy.ndarray'> (1, 3)\n"
     ]
    }
   ],
   "source": [
    "L = np.array([[2, 4, 6]])\n",
    "\n",
    "print(L, type(L), L.shape)"
   ]
  },
  {
   "cell_type": "markdown",
   "metadata": {},
   "source": [
    "### Diagonal\n",
    "- $m = n$, ou seja, é uma matriz quadrada;\n",
    "- $a_{i j} = 0$, para todo $i \\neq j$;\n",
    "- $a_{i j}$ assume um valor diferente de $0$, para todo $i = j$.\n",
    "\n",
    "\\begin{equation}\n",
    "A_{3 \\times 3} =\n",
    "  \\begin{bmatrix}\n",
    "    7 & 0 & 0 \\\\\n",
    "    0 & 1 & 0 \\\\\n",
    "    0 & 0 & -1\n",
    "  \\end{bmatrix}\n",
    "\\\\\n",
    "B_{4 \\times 4} =\n",
    "  \\begin{bmatrix}\n",
    "    3 & 0 & 0 & 0 \\\\\n",
    "    0 & 3 & 0 & 0 \\\\\n",
    "    0 & 0 & 3 & 0 \\\\\n",
    "    0 & 0 & 0 & 3\n",
    "  \\end{bmatrix}\n",
    "\\end{equation}"
   ]
  },
  {
   "cell_type": "code",
   "execution_count": 8,
   "metadata": {
    "ExecuteTime": {
     "end_time": "2019-06-27T18:20:24.551851Z",
     "start_time": "2019-06-27T18:20:24.547809Z"
    }
   },
   "outputs": [
    {
     "name": "stdout",
     "output_type": "stream",
     "text": [
      "[[ 7  0  0]\n",
      " [ 0  1  0]\n",
      " [ 0  0 -1]] <class 'numpy.ndarray'> (3, 3)\n",
      "[[3 0 0 0]\n",
      " [0 3 0 0]\n",
      " [0 0 3 0]\n",
      " [0 0 0 3]] <class 'numpy.ndarray'> (4, 4)\n"
     ]
    }
   ],
   "source": [
    "D1 = np.diag([7, 1, -1])\n",
    "D2 = np.diag([3, 3, 3, 3])\n",
    "\n",
    "print(D1, type(D1), D1.shape)\n",
    "print(D2, type(D2), D2.shape)"
   ]
  },
  {
   "cell_type": "markdown",
   "metadata": {},
   "source": [
    "### Identidade quadrada\n",
    "- $m = n$, ou seja, é uma matriz quadrada;\n",
    "- $a_{i j} = 1$, para todo $i = j$;\n",
    "- $a_{i j} = 0$, para todo $i \\neq j$.\n",
    "\n",
    "\\begin{equation}\n",
    "A_{m \\times n} =\n",
    "  \\begin{bmatrix}\n",
    "    1 & 0 & \\cdots & 0 \\\\\n",
    "    0 & 1 & \\cdots & 0 \\\\\n",
    "    \\vdots & \\vdots & \\ddots & \\vdots \\\\\n",
    "    0 & 0 & \\cdots & 1\n",
    "  \\end{bmatrix}\n",
    "\\end{equation}"
   ]
  },
  {
   "cell_type": "code",
   "execution_count": 9,
   "metadata": {
    "ExecuteTime": {
     "end_time": "2019-06-27T18:20:24.559978Z",
     "start_time": "2019-06-27T18:20:24.554889Z"
    }
   },
   "outputs": [
    {
     "name": "stdout",
     "output_type": "stream",
     "text": [
      "[[1. 0. 0. 0.]\n",
      " [0. 1. 0. 0.]\n",
      " [0. 0. 1. 0.]\n",
      " [0. 0. 0. 1.]] <class 'numpy.ndarray'> (4, 4)\n",
      "[[1 0 0 0]\n",
      " [0 1 0 0]\n",
      " [0 0 1 0]\n",
      " [0 0 0 1]] <class 'numpy.ndarray'> (4, 4)\n"
     ]
    }
   ],
   "source": [
    "I1 = np.eye(4)\n",
    "I2 = np.identity(4, int)\n",
    "\n",
    "print(I1, type(I1), I1.shape)\n",
    "print(I2, type(I2), I2.shape)"
   ]
  },
  {
   "cell_type": "markdown",
   "metadata": {},
   "source": [
    "### Matriz triangular inferior\n",
    "- $m = n$, ou seja, é uma matriz quadrada;\n",
    "- $a_{i j} = 0$, para todo $i < j$.\n",
    "\n",
    "\\begin{equation}\n",
    "A_{m \\times n} =\n",
    "  \\begin{bmatrix}\n",
    "    a_{1 1} & 0 & 0 & \\cdots & 0 \\\\\n",
    "    a_{2 1} & a_{2 2} & 0 & \\cdots & 0 \\\\\n",
    "    a_{3 1} & a_{3 2} & a_{3 3} & \\cdots & 0 \\\\\n",
    "    \\vdots & \\vdots & \\vdots & \\ddots & \\vdots \\\\\n",
    "    a_{m 1} & a_{m 2} & a_{m 3} & \\cdots & a_{m n}\n",
    "  \\end{bmatrix}\n",
    "\\end{equation}"
   ]
  },
  {
   "cell_type": "code",
   "execution_count": 10,
   "metadata": {
    "ExecuteTime": {
     "end_time": "2019-06-27T18:20:24.577704Z",
     "start_time": "2019-06-27T18:20:24.562549Z"
    }
   },
   "outputs": [
    {
     "name": "stdout",
     "output_type": "stream",
     "text": [
      "[[1 0 0]\n",
      " [4 5 0]\n",
      " [7 8 9]] <class 'numpy.ndarray'> (3, 3)\n",
      "[[0 0 0]\n",
      " [4 0 0]\n",
      " [7 8 0]] <class 'numpy.ndarray'> (3, 3)\n",
      "[[0 0 0]\n",
      " [0 0 0]\n",
      " [7 0 0]] <class 'numpy.ndarray'> (3, 3)\n",
      "[[1 2 0]\n",
      " [4 5 6]\n",
      " [7 8 9]] <class 'numpy.ndarray'> (3, 3)\n"
     ]
    }
   ],
   "source": [
    "Ti1 = np.tril([[1,2,3],[4,5,6],[7,8,9]])\n",
    "Ti2 = np.tril([[1,2,3],[4,5,6],[7,8,9]], -1)\n",
    "Ti3 = np.tril([[1,2,3],[4,5,6],[7,8,9]], -2)\n",
    "Ti4 = np.tril([[1,2,3],[4,5,6],[7,8,9]], 1)\n",
    "\n",
    "print(Ti1, type(Ti1), Ti1.shape)\n",
    "print(Ti2, type(Ti2), Ti2.shape)\n",
    "print(Ti3, type(Ti3), Ti3.shape)\n",
    "print(Ti4, type(Ti4), Ti4.shape)"
   ]
  },
  {
   "cell_type": "markdown",
   "metadata": {},
   "source": [
    "### Matriz triangular superior\n",
    "- $m = n$, ou seja, é uma matriz quadrada;\n",
    "- $a_{i j} = 0$, para todo $i > j$.\n",
    "\n",
    "\\begin{equation}\n",
    "A_{m \\times n} =\n",
    "  \\begin{bmatrix}\n",
    "    a_{1 1} & a_{1 2} & a_{1 3} & \\cdots & a_{1 n} \\\\\n",
    "    0 & a_{2 2} & a_{2 3} & \\cdots & a_{2 n} \\\\\n",
    "    0 & 0 & a_{3 3} & \\cdots & a_{3 n} \\\\\n",
    "    \\vdots & \\vdots & \\vdots & \\ddots & \\vdots \\\\\n",
    "    0 & 0 & 0 & \\cdots & a_{m n}\n",
    "  \\end{bmatrix}\n",
    "\\end{equation}"
   ]
  },
  {
   "cell_type": "code",
   "execution_count": 11,
   "metadata": {
    "ExecuteTime": {
     "end_time": "2019-06-27T18:20:24.591805Z",
     "start_time": "2019-06-27T18:20:24.580038Z"
    }
   },
   "outputs": [
    {
     "name": "stdout",
     "output_type": "stream",
     "text": [
      "[[1 2 3]\n",
      " [0 5 6]\n",
      " [0 0 9]] <class 'numpy.ndarray'> (3, 3)\n",
      "[[0 2 3]\n",
      " [0 0 6]\n",
      " [0 0 0]] <class 'numpy.ndarray'> (3, 3)\n",
      "[[0 0 3]\n",
      " [0 0 0]\n",
      " [0 0 0]] <class 'numpy.ndarray'> (3, 3)\n",
      "[[1 2 3]\n",
      " [4 5 6]\n",
      " [0 8 9]] <class 'numpy.ndarray'> (3, 3)\n"
     ]
    }
   ],
   "source": [
    "Ts1 = np.triu([[1,2,3],[4,5,6],[7,8,9]])\n",
    "Ts2 = np.triu([[1,2,3],[4,5,6],[7,8,9]], 1)\n",
    "Ts3 = np.triu([[1,2,3],[4,5,6],[7,8,9]], 2)\n",
    "Ts4 = np.triu([[1,2,3],[4,5,6],[7,8,9]], -1)\n",
    "\n",
    "print(Ts1, type(Ts1), Ts1.shape)\n",
    "print(Ts2, type(Ts2), Ts2.shape)\n",
    "print(Ts3, type(Ts3), Ts3.shape)\n",
    "print(Ts4, type(Ts4), Ts4.shape)"
   ]
  },
  {
   "cell_type": "markdown",
   "metadata": {},
   "source": [
    "### Matriz simétrica\n",
    "- $m = n$, ou seja, é uma matriz quadrada;\n",
    "- $a_{i j} = a_{j i}$.\n",
    "\n",
    "\\begin{equation}\n",
    "A_{4 \\times 4} =\n",
    "  \\begin{bmatrix}\n",
    "    a & b & c & d \\\\\n",
    "    b & e & f & g \\\\\n",
    "    c & f & h & i \\\\\n",
    "    d & g & i & k\n",
    "  \\end{bmatrix}\n",
    "\\end{equation}"
   ]
  },
  {
   "cell_type": "code",
   "execution_count": 12,
   "metadata": {
    "ExecuteTime": {
     "end_time": "2019-06-27T18:20:24.598223Z",
     "start_time": "2019-06-27T18:20:24.593395Z"
    }
   },
   "outputs": [
    {
     "name": "stdout",
     "output_type": "stream",
     "text": [
      "[[0 4 7]\n",
      " [4 0 8]\n",
      " [7 8 0]] <class 'numpy.ndarray'> (3, 3)\n"
     ]
    }
   ],
   "source": [
    "S1 = np.tril([[1,2,3],[4,5,6],[7,8,9]], -1)\n",
    "S1 = S1 + S1.T\n",
    "\n",
    "print(S1, type(S1), S1.shape)"
   ]
  },
  {
   "cell_type": "markdown",
   "metadata": {},
   "source": [
    "### Matriz transposta\n",
    "É a matriz que se obtém da troca de linhas por colunas de uma dada matriz.\n",
    "\n",
    "\\begin{equation}\n",
    "A_{2 \\times 3} =\n",
    "  \\begin{bmatrix}\n",
    "    a_{1 1} & a_{1 2} & a_{1 3} \\\\\n",
    "    a_{2 1} & a_{2 2} & a_{2 3}\n",
    "  \\end{bmatrix}\n",
    "\\\\\n",
    "A_{3 \\times 2}^{t} =\n",
    "  \\begin{bmatrix}\n",
    "    a_{1 1} & a_{2 1} \\\\\n",
    "    a_{1 2} & a_{2 2} \\\\\n",
    "    a_{1 3} & a_{2 3}\n",
    "  \\end{bmatrix}\n",
    "\\end{equation}"
   ]
  },
  {
   "cell_type": "code",
   "execution_count": 13,
   "metadata": {
    "ExecuteTime": {
     "end_time": "2019-06-27T18:20:24.605222Z",
     "start_time": "2019-06-27T18:20:24.599806Z"
    }
   },
   "outputs": [
    {
     "name": "stdout",
     "output_type": "stream",
     "text": [
      "[[ 2  1]\n",
      " [ 0  3]\n",
      " [-1  4]] <class 'numpy.matrix'> (3, 2)\n",
      "[[ 2  0 -1]\n",
      " [ 1  3  4]] <class 'numpy.matrix'> (2, 3)\n"
     ]
    }
   ],
   "source": [
    "A = np.matrix('2 1; 0 3; -1 4')\n",
    "AT = A.T  # np.transpose(A)\n",
    "\n",
    "print(A, type(A), A.shape)\n",
    "print(AT, type(AT), AT.shape)"
   ]
  },
  {
   "cell_type": "markdown",
   "metadata": {},
   "source": [
    "## Operações com matrizes\n",
    "Algumas operações que envolvem matrizes."
   ]
  },
  {
   "cell_type": "code",
   "execution_count": 14,
   "metadata": {
    "ExecuteTime": {
     "end_time": "2019-06-27T18:20:24.611760Z",
     "start_time": "2019-06-27T18:20:24.607490Z"
    }
   },
   "outputs": [],
   "source": [
    "A = np.array([[2,4,6], [1,2,7], [3,2,9]])\n",
    "B = np.array([[-1,4,5], [6,3,1]])\n",
    "C = np.array([[0,4,3], [1,-3,-1], [3,1,2]])"
   ]
  },
  {
   "cell_type": "code",
   "execution_count": 15,
   "metadata": {
    "ExecuteTime": {
     "end_time": "2019-06-27T18:20:24.617580Z",
     "start_time": "2019-06-27T18:20:24.614128Z"
    }
   },
   "outputs": [
    {
     "name": "stdout",
     "output_type": "stream",
     "text": [
      "[[2 4 6]\n",
      " [1 2 7]\n",
      " [3 2 9]] <class 'numpy.ndarray'> (3, 3)\n",
      "[[-1  4  5]\n",
      " [ 6  3  1]] <class 'numpy.ndarray'> (2, 3)\n",
      "[[ 0  4  3]\n",
      " [ 1 -3 -1]\n",
      " [ 3  1  2]] <class 'numpy.ndarray'> (3, 3)\n"
     ]
    }
   ],
   "source": [
    "print(A, type(A), A.shape)\n",
    "print(B, type(B), B.shape)\n",
    "print(C, type(C), C.shape)"
   ]
  },
  {
   "cell_type": "markdown",
   "metadata": {},
   "source": [
    "### Multiplicação por um escalar\n",
    "$k \\cdot A = [ka_{i j}]_{m \\times n}$.\n",
    "\n",
    "\\begin{equation}\n",
    "k \\cdot\n",
    "  \\begin{bmatrix}\n",
    "    a & b & c \\\\\n",
    "    d & e & f\n",
    "  \\end{bmatrix} =\n",
    "  \\begin{bmatrix}\n",
    "    ka & kb & kc \\\\\n",
    "    kd & ke & kf\n",
    "  \\end{bmatrix}\n",
    "\\end{equation}"
   ]
  },
  {
   "cell_type": "code",
   "execution_count": 16,
   "metadata": {
    "ExecuteTime": {
     "end_time": "2019-06-27T18:20:24.628522Z",
     "start_time": "2019-06-27T18:20:24.620863Z"
    }
   },
   "outputs": [
    {
     "data": {
      "text/plain": [
       "array([[-7, 28, 35],\n",
       "       [42, 21,  7]])"
      ]
     },
     "execution_count": 16,
     "metadata": {},
     "output_type": "execute_result"
    }
   ],
   "source": [
    "B.dot(7)"
   ]
  },
  {
   "cell_type": "markdown",
   "metadata": {},
   "source": [
    "### Adição\n",
    "As matrizes devem ter a mesma ordem.\n",
    "\n",
    "\\begin{equation}\n",
    "  \\begin{bmatrix}\n",
    "    a & b \\\\\n",
    "    c & d \\\\\n",
    "    e & f\n",
    "  \\end{bmatrix} +\n",
    "  \\begin{bmatrix}\n",
    "    g & h \\\\\n",
    "    i & j \\\\\n",
    "    k & l\n",
    "  \\end{bmatrix} =\n",
    "  \\begin{bmatrix}\n",
    "    a+g & b+h \\\\\n",
    "    c+i & d+j \\\\\n",
    "    e+k & f+l\n",
    "  \\end{bmatrix}\n",
    "\\end{equation}"
   ]
  },
  {
   "cell_type": "code",
   "execution_count": 17,
   "metadata": {
    "ExecuteTime": {
     "end_time": "2019-06-27T18:20:24.632734Z",
     "start_time": "2019-06-27T18:20:24.629722Z"
    }
   },
   "outputs": [
    {
     "data": {
      "text/plain": [
       "array([[ 2,  8,  9],\n",
       "       [ 2, -1,  6],\n",
       "       [ 6,  3, 11]])"
      ]
     },
     "execution_count": 17,
     "metadata": {},
     "output_type": "execute_result"
    }
   ],
   "source": [
    "np.add(A, C)"
   ]
  },
  {
   "cell_type": "markdown",
   "metadata": {},
   "source": [
    "### Subtração\n",
    "As matrizes devem ter a mesma ordem.\n",
    "\n",
    "\\begin{equation}\n",
    "  \\begin{bmatrix}\n",
    "    a & b \\\\\n",
    "    c & d \\\\\n",
    "    e & f\n",
    "  \\end{bmatrix} -\n",
    "  \\begin{bmatrix}\n",
    "    g & h \\\\\n",
    "    i & j \\\\\n",
    "    k & l\n",
    "  \\end{bmatrix} =\n",
    "  \\begin{bmatrix}\n",
    "    a-g & b-h \\\\\n",
    "    c-i & d-j \\\\\n",
    "    e-k & f-l\n",
    "  \\end{bmatrix}\n",
    "\\end{equation}"
   ]
  },
  {
   "cell_type": "code",
   "execution_count": 18,
   "metadata": {
    "ExecuteTime": {
     "end_time": "2019-06-27T18:20:24.642363Z",
     "start_time": "2019-06-27T18:20:24.633851Z"
    }
   },
   "outputs": [
    {
     "data": {
      "text/plain": [
       "array([[2, 0, 3],\n",
       "       [0, 5, 8],\n",
       "       [0, 1, 7]])"
      ]
     },
     "execution_count": 18,
     "metadata": {},
     "output_type": "execute_result"
    }
   ],
   "source": [
    "np.subtract(A, C)"
   ]
  },
  {
   "cell_type": "markdown",
   "metadata": {},
   "source": [
    "### Multiplicação\n",
    "Sejam $A = [a_{i j}]_{m \\times n}$ e $B = [b_{r s}]_{n \\times p}$. Definimos $A \\cdot B = [c_{uv}]_{m \\times p}$. O número de colunas da primeira matriz deve ser igual ao número de linhas da segunda matriz.\n",
    "\n",
    "\\begin{equation}\n",
    "  \\begin{bmatrix}\n",
    "    a & b \\\\\n",
    "    c & d \\\\\n",
    "    e & f\n",
    "  \\end{bmatrix} \\cdot\n",
    "  \\begin{bmatrix}\n",
    "    g & h \\\\\n",
    "    i & j\n",
    "  \\end{bmatrix} =\n",
    "  \\begin{bmatrix}\n",
    "    (a \\cdot g + b \\cdot i) & (a \\cdot h + b \\cdot j) \\\\\n",
    "    (c \\cdot g + d \\cdot i) & (c \\cdot h + d \\cdot j) \\\\\n",
    "    (e \\cdot g + f \\cdot i) & (e \\cdot h + f \\cdot j)\n",
    "  \\end{bmatrix}\n",
    "\\end{equation}"
   ]
  },
  {
   "cell_type": "code",
   "execution_count": 19,
   "metadata": {
    "ExecuteTime": {
     "end_time": "2019-06-27T18:20:24.647686Z",
     "start_time": "2019-06-27T18:20:24.644426Z"
    }
   },
   "outputs": [
    {
     "data": {
      "text/plain": [
       "array([[17, 14, 67],\n",
       "       [18, 32, 66]])"
      ]
     },
     "execution_count": 19,
     "metadata": {},
     "output_type": "execute_result"
    }
   ],
   "source": [
    "np.dot(B, A)"
   ]
  },
  {
   "cell_type": "markdown",
   "metadata": {},
   "source": [
    "## Cadeias de Markov\n",
    "A transição de um estado para outro possui uma probabilidade.\n",
    "\n",
    "- **Processo de Markov**: depende apenas do estado atual do fenômeno e estado seguinte."
   ]
  },
  {
   "cell_type": "code",
   "execution_count": null,
   "metadata": {},
   "outputs": [],
   "source": []
  }
 ],
 "metadata": {
  "kernelspec": {
   "display_name": "Python 3",
   "language": "python",
   "name": "python3"
  },
  "language_info": {
   "codemirror_mode": {
    "name": "ipython",
    "version": 3
   },
   "file_extension": ".py",
   "mimetype": "text/x-python",
   "name": "python",
   "nbconvert_exporter": "python",
   "pygments_lexer": "ipython3",
   "version": "3.7.3"
  },
  "toc": {
   "base_numbering": 1,
   "nav_menu": {},
   "number_sections": true,
   "sideBar": true,
   "skip_h1_title": false,
   "title_cell": "Table of Contents",
   "title_sidebar": "Contents",
   "toc_cell": false,
   "toc_position": {},
   "toc_section_display": true,
   "toc_window_display": false
  },
  "varInspector": {
   "cols": {
    "lenName": 16,
    "lenType": 16,
    "lenVar": 40
   },
   "kernels_config": {
    "python": {
     "delete_cmd_postfix": "",
     "delete_cmd_prefix": "del ",
     "library": "var_list.py",
     "varRefreshCmd": "print(var_dic_list())"
    },
    "r": {
     "delete_cmd_postfix": ") ",
     "delete_cmd_prefix": "rm(",
     "library": "var_list.r",
     "varRefreshCmd": "cat(var_dic_list()) "
    }
   },
   "types_to_exclude": [
    "module",
    "function",
    "builtin_function_or_method",
    "instance",
    "_Feature"
   ],
   "window_display": false
  }
 },
 "nbformat": 4,
 "nbformat_minor": 2
}
