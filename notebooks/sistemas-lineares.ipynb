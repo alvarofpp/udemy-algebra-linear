{
 "cells": [
  {
   "cell_type": "markdown",
   "metadata": {},
   "source": [
    "# Sistemas lineares\n",
    "Conjunto de equações associadas entre si que apresentam a seguinte forma:\n",
    "\n",
    "\\begin{equation}\n",
    "  \\begin{cases}\n",
    "    a_{1 1}x_{1} & a_{1 2}x_{2} & \\cdots & a_{1 n}x_{n} & = b_{1} \\\\\n",
    "    a_{2 1}x_{1} & a_{2 2}x_{2} & \\cdots & a_{2 n}x_{n} & = b_{2} \\\\\n",
    "    \\vdots & \\vdots & \\ddots & \\vdots & \\vdots \\\\\n",
    "    a_{m 1}x_{1} & a_{m 2}x_{2} & \\cdots & a_{m n}x_{n} & = b_{m}\n",
    "  \\end{cases}\n",
    "\\end{equation}\n",
    "\n",
    "- **Equação linear**: $a_{1}x_{1} + a_{2}x_{2} + \\cdots + a_{n}x_{n} = b$.\n",
    "- **Equação não linear**: qualquer outra equação que não possa ser escrita como na forma linear é considerada não linear, ou seja, equações com $x^{2}$, $y^{-2}$, $x \\cdot y$, $\\frac{\\sqrt{y}}{z}$, $sen(x)$, $e^{x+y}$, etc."
   ]
  },
  {
   "cell_type": "markdown",
   "metadata": {},
   "source": [
    "## Sistema linear homogêneo\n",
    "Uma equação linear homogênea é uma equação que possui os termos independentes iguais a zero, por exemplo, $2x+5y-z = 0$ é uma equação homogênea, portanto, podemos concluir que um sistema linear será considerado homogêneo se todas as suas equações tiverem os seus termos independentes iguais à zero.\n",
    "\n",
    "\\begin{equation}\n",
    "  \\begin{cases}\n",
    "    a_{1 1}x_{1} & a_{1 2}x_{2} & \\cdots & a_{1 n}x_{n} & = 0 \\\\\n",
    "    a_{2 1}x_{1} & a_{2 2}x_{2} & \\cdots & a_{2 n}x_{n} & = 0 \\\\\n",
    "    \\vdots & \\vdots & \\ddots & \\vdots & \\vdots \\\\\n",
    "    a_{m 1}x_{1} & a_{m 2}x_{2} & \\cdots & a_{m n}x_{n} & = 0\n",
    "  \\end{cases}\n",
    "\\end{equation}"
   ]
  },
  {
   "cell_type": "markdown",
   "metadata": {},
   "source": [
    "## Forma matricial\n",
    "Temos o seguinte sistema:\n",
    "\\begin{equation}\n",
    "  \\begin{cases}\n",
    "    a_{1 1}x_{1} & a_{1 2}x_{2} & \\cdots & a_{1 n}x_{n} & = b_{1} \\\\\n",
    "    a_{2 1}x_{1} & a_{2 2}x_{2} & \\cdots & a_{2 n}x_{n} & = b_{2} \\\\\n",
    "    \\vdots & \\vdots & \\ddots & \\vdots & \\vdots \\\\\n",
    "    a_{m 1}x_{1} & a_{m 2}x_{2} & \\cdots & a_{m n}x_{n} & = b_{m}\n",
    "  \\end{cases}\n",
    "\\end{equation}\n",
    "\n",
    "A sua forma matricial é:\n",
    "\\begin{equation}\n",
    "  \\begin{bmatrix}\n",
    "    a_{1 1} & a_{1 2} & \\cdots & a_{1 n} \\\\\n",
    "    a_{2 1} & a_{2 2} & \\cdots & a_{2 n} \\\\\n",
    "    \\vdots & \\vdots & \\ddots & \\vdots \\\\\n",
    "    a_{m 1} & a_{m 2} & \\cdots & a_{m n}\n",
    "  \\end{bmatrix} \\cdot\n",
    "  \\begin{bmatrix}\n",
    "    x_{1} \\\\\n",
    "    x_{2} \\\\\n",
    "    \\vdots \\\\\n",
    "    x_{n}\n",
    "  \\end{bmatrix} =\n",
    "  \\begin{bmatrix}\n",
    "    b_{1} \\\\\n",
    "    b_{2} \\\\\n",
    "    \\vdots \\\\\n",
    "    b_{n}\n",
    "  \\end{bmatrix}\n",
    "\\\\\n",
    "A \\cdot X = B\n",
    "\\end{equation}\n",
    "\n",
    "Matriz ampliada:\n",
    "\\begin{equation}\n",
    "  \\begin{bmatrix}\n",
    "    a_{1 1} & a_{1 2} & \\cdots & a_{1 n} & b_{1} \\\\\n",
    "    a_{2 1} & a_{2 2} & \\cdots & a_{2 n} & b_{2} \\\\\n",
    "    \\vdots & \\vdots & \\ddots & \\vdots & \\vdots \\\\\n",
    "    a_{m 1} & a_{m 2} & \\cdots & a_{m n} & b_{n}\n",
    "  \\end{bmatrix}\n",
    "\\end{equation}"
   ]
  },
  {
   "cell_type": "code",
   "execution_count": null,
   "metadata": {},
   "outputs": [],
   "source": []
  }
 ],
 "metadata": {
  "kernelspec": {
   "display_name": "Python 3",
   "language": "python",
   "name": "python3"
  },
  "language_info": {
   "codemirror_mode": {
    "name": "ipython",
    "version": 3
   },
   "file_extension": ".py",
   "mimetype": "text/x-python",
   "name": "python",
   "nbconvert_exporter": "python",
   "pygments_lexer": "ipython3",
   "version": "3.7.1"
  },
  "toc": {
   "base_numbering": 1,
   "nav_menu": {},
   "number_sections": true,
   "sideBar": true,
   "skip_h1_title": false,
   "title_cell": "Table of Contents",
   "title_sidebar": "Contents",
   "toc_cell": false,
   "toc_position": {},
   "toc_section_display": true,
   "toc_window_display": false
  },
  "varInspector": {
   "cols": {
    "lenName": 16,
    "lenType": 16,
    "lenVar": 40
   },
   "kernels_config": {
    "python": {
     "delete_cmd_postfix": "",
     "delete_cmd_prefix": "del ",
     "library": "var_list.py",
     "varRefreshCmd": "print(var_dic_list())"
    },
    "r": {
     "delete_cmd_postfix": ") ",
     "delete_cmd_prefix": "rm(",
     "library": "var_list.r",
     "varRefreshCmd": "cat(var_dic_list()) "
    }
   },
   "types_to_exclude": [
    "module",
    "function",
    "builtin_function_or_method",
    "instance",
    "_Feature"
   ],
   "window_display": false
  }
 },
 "nbformat": 4,
 "nbformat_minor": 2
}
